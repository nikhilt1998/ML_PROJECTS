{
 "cells": [
  {
   "cell_type": "markdown",
   "metadata": {},
   "source": [
    "## 1.Loading the Dataset!!!"
   ]
  },
  {
   "cell_type": "code",
   "execution_count": 2,
   "metadata": {},
   "outputs": [
    {
     "name": "stdout",
     "output_type": "stream",
     "text": [
      "Python: 3.6.8 |Anaconda, Inc.| (default, Dec 30 2018, 01:22:34) \n",
      "[GCC 7.3.0]\n",
      "NLTK: 3.4\n",
      "Scikit-learn: 0.20.3\n",
      "Numpy :1.15.4\n",
      "Pandas: 0.24.1\n"
     ]
    }
   ],
   "source": [
    "import sys\n",
    "import nltk\n",
    "import sklearn\n",
    "import numpy \n",
    "import pandas \n",
    "\n",
    "print(\"Python: {}\".format(sys.version))\n",
    "print(\"NLTK: {}\".format(nltk.__version__))\n",
    "print(\"Scikit-learn: {}\".format(sklearn.__version__))\n",
    "print(\"Numpy :{}\".format(numpy.__version__))\n",
    "print(\"Pandas: {}\".format(pandas.__version__))"
   ]
  },
  {
   "cell_type": "code",
   "execution_count": 3,
   "metadata": {},
   "outputs": [],
   "source": [
    "#load the sms messagges dataset\n",
    "import numpy as np\n",
    "import pandas as pd\n",
    "df=pd.read_csv(\"SMSSpamCollection\", header=None, encoding='utf-8',sep='\\t')  #we dont want to give a name so header is none and since it is a text file encoding='utf-8'\n",
    "\n"
   ]
  },
  {
   "cell_type": "code",
   "execution_count": 4,
   "metadata": {},
   "outputs": [
    {
     "name": "stdout",
     "output_type": "stream",
     "text": [
      "<class 'pandas.core.frame.DataFrame'>\n",
      "RangeIndex: 5572 entries, 0 to 5571\n",
      "Data columns (total 2 columns):\n",
      "0    5572 non-null object\n",
      "1    5572 non-null object\n",
      "dtypes: object(2)\n",
      "memory usage: 87.1+ KB\n",
      "None\n",
      "      0                                                  1\n",
      "0   ham  Go until jurong point, crazy.. Available only ...\n",
      "1   ham                      Ok lar... Joking wif u oni...\n",
      "2  spam  Free entry in 2 a wkly comp to win FA Cup fina...\n",
      "3   ham  U dun say so early hor... U c already then say...\n",
      "4   ham  Nah I don't think he goes to usf, he lives aro...\n"
     ]
    }
   ],
   "source": [
    "#lets see some useful info\n",
    "print(df.info())\n",
    "print(df.head())"
   ]
  },
  {
   "cell_type": "code",
   "execution_count": 5,
   "metadata": {},
   "outputs": [
    {
     "name": "stdout",
     "output_type": "stream",
     "text": [
      "ham     4825\n",
      "spam     747\n",
      "Name: 0, dtype: int64\n"
     ]
    }
   ],
   "source": [
    "#let's check class distributions\n",
    "classes=df[0]\n",
    "print(classes.value_counts())"
   ]
  },
  {
   "cell_type": "markdown",
   "metadata": {},
   "source": [
    "## 2. Pre-Process the Data"
   ]
  },
  {
   "cell_type": "code",
   "execution_count": 6,
   "metadata": {},
   "outputs": [
    {
     "name": "stdout",
     "output_type": "stream",
     "text": [
      "0     ham\n",
      "1     ham\n",
      "2    spam\n",
      "3     ham\n",
      "4     ham\n",
      "5    spam\n",
      "6     ham\n",
      "7     ham\n",
      "8    spam\n",
      "9    spam\n",
      "Name: 0, dtype: object\n",
      "[0 0 1 0 0 1 0 0 1 1]\n"
     ]
    }
   ],
   "source": [
    "#let's convert the class labels to binary values, 0 for ham and 1 for spam\n",
    "from sklearn.preprocessing import LabelEncoder   #labelencoder will do above task\n",
    "\n",
    "encoder = LabelEncoder()  #making instance\n",
    "\n",
    "Y=encoder.fit_transform(classes)\n",
    "\n",
    "#let's check \n",
    "print(classes[:10])\n",
    "print(Y[:10])"
   ]
  },
  {
   "cell_type": "code",
   "execution_count": 7,
   "metadata": {
    "scrolled": true
   },
   "outputs": [
    {
     "name": "stdout",
     "output_type": "stream",
     "text": [
      "0    Go until jurong point, crazy.. Available only ...\n",
      "1                        Ok lar... Joking wif u oni...\n",
      "2    Free entry in 2 a wkly comp to win FA Cup fina...\n",
      "3    U dun say so early hor... U c already then say...\n",
      "4    Nah I don't think he goes to usf, he lives aro...\n",
      "5    FreeMsg Hey there darling it's been 3 week's n...\n",
      "6    Even my brother is not like to speak with me. ...\n",
      "7    As per your request 'Melle Melle (Oru Minnamin...\n",
      "8    WINNER!! As a valued network customer you have...\n",
      "9    Had your mobile 11 months or more? U R entitle...\n",
      "Name: 1, dtype: object\n"
     ]
    }
   ],
   "source": [
    "#store the SMS msg data\n",
    "\n",
    "text_messages= df[1]    #since 2nd col contain msgs\n",
    "print(text_messages[:10])  #let's print first 10 of them"
   ]
  },
  {
   "cell_type": "code",
   "execution_count": 8,
   "metadata": {},
   "outputs": [],
   "source": [
    "#now we have to use regular exp to replace email addr,url,phone no.,other num,symbols\n",
    "#we can find more reg exp online\n",
    "\n",
    "#replace email address to 'emailaddr'\n",
    "processed= text_messages.str.replace(r'^\\w+@[a-zA-Z_]+?\\.[a-zA-Z]{2,3}$','emaladdr')\n",
    "\n",
    "#replace urls with 'webaddress'\n",
    "processed= processed.str.replace(r'^http\\://[a-zA-Z0-9\\-\\.]+\\.[a-zA-Z]{2,3}(/\\S*)?$','webaddress')\n",
    "\n",
    "#replace money symbols with 'moneysymb'\n",
    "processed=processed.str.replace(r'£/\\$','moneysymb')\n",
    "\n",
    "#replace 10 digit phone number with 'phonenumbr'\n",
    "processed=processed.str.replace(r'^\\(?[\\d]{3}\\)?[\\s-]?[\\d]{3}[\\s-]?[\\d]{4}$','phonenumbr')\n",
    "\n",
    "#replace normal numbers with 'numbr'\n",
    "processed=processed.str.replace(r'\\d+(\\.\\d+)?','numbr')\n",
    "                                    \n",
    "\n",
    "\n"
   ]
  },
  {
   "cell_type": "code",
   "execution_count": 9,
   "metadata": {},
   "outputs": [],
   "source": [
    "#replace punctuations\n",
    "processed=processed.str.replace(r'[^\\w\\d\\s]',' ')\n",
    "\n",
    "#replace whitespaces between terms with single space\n",
    "processed=processed.str.replace(r'\\s+',' ')\n",
    "\n",
    "#replace leading and trailing whitespaces\n",
    "processed=processed.str.replace(r'^\\s+/\\s+?$','')\n",
    "\n",
    "\n"
   ]
  },
  {
   "cell_type": "code",
   "execution_count": 10,
   "metadata": {},
   "outputs": [
    {
     "name": "stdout",
     "output_type": "stream",
     "text": [
      "0       go until jurong point crazy available only in ...\n",
      "1                                ok lar joking wif u oni \n",
      "2       free entry in numbr a wkly comp to win fa cup ...\n",
      "3            u dun say so early hor u c already then say \n",
      "4       nah i don t think he goes to usf he lives arou...\n",
      "5       freemsg hey there darling it s been numbr week...\n",
      "6       even my brother is not like to speak with me t...\n",
      "7       as per your request melle melle oru minnaminun...\n",
      "8       winner as a valued network customer you have b...\n",
      "9       had your mobile numbr months or more u r entit...\n",
      "10      i m gonna be home soon and i don t want to tal...\n",
      "11      six chances to win cash from numbr to numbr nu...\n",
      "12      urgent you have won a numbr week free membersh...\n",
      "13      i ve been searching for the right words to tha...\n",
      "14                     i have a date on sunday with will \n",
      "15      xxxmobilemovieclub to use your credit click th...\n",
      "16                                oh k i m watching here \n",
      "17      eh u remember how numbr spell his name yes i d...\n",
      "18      fine if that s the way u feel that s the way i...\n",
      "19      england v macedonia dont miss the goals team n...\n",
      "20              is that seriously how you spell his name \n",
      "21      i m going to try for numbr months ha ha only j...\n",
      "22        so ü pay first lar then when is da stock comin \n",
      "23      aft i finish my lunch then i go str down lor a...\n",
      "24      ffffffffff alright no way i can meet up with y...\n",
      "25      just forced myself to eat a slice i m really n...\n",
      "26                         lol your always so convincing \n",
      "27      did you catch the bus are you frying an egg di...\n",
      "28      i m back amp we re packing the car now i ll le...\n",
      "29      ahhh work i vaguely remember that what does it...\n",
      "                              ...                        \n",
      "5542             armand says get your ass over to epsilon\n",
      "5543               u still havent got urself a jacket ah \n",
      "5544    i m taking derek amp taylor to walmart if i m ...\n",
      "5545        hi its in durban are you still on this number\n",
      "5546            ic there are a lotta childporn cars then \n",
      "5547    had your contract mobile numbr mnths latest mo...\n",
      "5548                     no i was trying it all weekend v\n",
      "5549    you know wot people wear t shirts jumpers hat ...\n",
      "5550           cool what time you think you can get here \n",
      "5551    wen did you get so spiritual and deep that s g...\n",
      "5552    have a safe trip to nigeria wish you happiness...\n",
      "5553                           hahaha use your brain dear\n",
      "5554    well keep in mind i ve only got enough gas for...\n",
      "5555    yeh indians was nice tho it did kane me off a ...\n",
      "5556    yes i have so that s why u texted pshew missin...\n",
      "5557    no i meant the calculation is the same that lt...\n",
      "5558                                sorry i ll call later\n",
      "5559    if you aren t here in the next lt gt hours imm...\n",
      "5560                     anything lor juz both of us lor \n",
      "5561    get me out of this dump heap my mom decided to...\n",
      "5562    ok lor sony ericsson salesman i ask shuhui the...\n",
      "5563                              ard numbr like dat lor \n",
      "5564    why don t you wait til at least wednesday to s...\n",
      "5565                                           huh y lei \n",
      "5566    reminder from onumbr to get numbr pounds free ...\n",
      "5567    this is the numbrnd time we have tried numbr c...\n",
      "5568                 will ü b going to esplanade fr home \n",
      "5569    pity was in mood for that so any other suggest...\n",
      "5570    the guy did some bitching but i acted like i d...\n",
      "5571                            rofl its true to its name\n",
      "Name: 1, Length: 5572, dtype: object\n"
     ]
    }
   ],
   "source": [
    "#now let's change all words to lowercase\n",
    "processed=processed.str.lower()\n",
    "print(processed)"
   ]
  },
  {
   "cell_type": "code",
   "execution_count": 11,
   "metadata": {},
   "outputs": [],
   "source": [
    "#remove stop words from text msgs\n",
    "from nltk.corpus import stopwords\n",
    "\n",
    "stop_words =set(stopwords.words('english'))\n",
    "\n",
    "processed=processed.apply(lambda x: ' '.join(term for term in x.split() if term not in stop_words))  #x is above msgs\n",
    "\n",
    "\n"
   ]
  },
  {
   "cell_type": "code",
   "execution_count": 12,
   "metadata": {},
   "outputs": [],
   "source": [
    "#remove word stem using Porter stemmer ....porter is a type of stemming technique\n",
    "ps=nltk.PorterStemmer()\n",
    "\n",
    "processed=processed.apply(lambda x:' '.join(ps.stem(term) for term in x.split()))\n"
   ]
  },
  {
   "cell_type": "code",
   "execution_count": 13,
   "metadata": {},
   "outputs": [
    {
     "name": "stdout",
     "output_type": "stream",
     "text": [
      "0       go jurong point crazi avail bugi n great world...\n",
      "1                                   ok lar joke wif u oni\n",
      "2       free entri numbr wkli comp win fa cup final tk...\n",
      "3                     u dun say earli hor u c alreadi say\n",
      "4                    nah think goe usf live around though\n",
      "5       freemsg hey darl numbr week word back like fun...\n",
      "6           even brother like speak treat like aid patent\n",
      "7       per request mell mell oru minnaminungint nurun...\n",
      "8       winner valu network custom select receivea num...\n",
      "9       mobil numbr month u r entitl updat latest colo...\n",
      "10      gonna home soon want talk stuff anymor tonight...\n",
      "11      six chanc win cash numbr numbr numbr pound txt...\n",
      "12      urgent numbr week free membership numbr numbr ...\n",
      "13      search right word thank breather promis wont t...\n",
      "14                                            date sunday\n",
      "15      xxxmobilemovieclub use credit click wap link n...\n",
      "16                                             oh k watch\n",
      "17      eh u rememb numbr spell name ye v naughti make...\n",
      "18                             fine way u feel way gota b\n",
      "19      england v macedonia dont miss goal team news t...\n",
      "20                                     serious spell name\n",
      "21                          go tri numbr month ha ha joke\n",
      "22                         ü pay first lar da stock comin\n",
      "23      aft finish lunch go str lor ard numbr smth lor...\n",
      "24                     ffffffffff alright way meet sooner\n",
      "25      forc eat slice realli hungri tho suck mark get...\n",
      "26                                      lol alway convinc\n",
      "27      catch bu fri egg make tea eat mom left dinner ...\n",
      "28                        back amp pack car let know room\n",
      "29                    ahhh work vagu rememb feel like lol\n",
      "                              ...                        \n",
      "5542                           armand say get ass epsilon\n",
      "5543                  u still havent got urself jacket ah\n",
      "5544    take derek amp taylor walmart back time done l...\n",
      "5545                               hi durban still number\n",
      "5546                               ic lotta childporn car\n",
      "5547    contract mobil numbr mnth latest motorola noki...\n",
      "5548                                        tri weekend v\n",
      "5549    know wot peopl wear shirt jumper hat belt know...\n",
      "5550                                  cool time think get\n",
      "5551                           wen get spiritu deep great\n",
      "5552    safe trip nigeria wish happi soon compani shar...\n",
      "5553                                hahaha use brain dear\n",
      "5554    well keep mind got enough ga one round trip ba...\n",
      "5555    yeh indian nice tho kane bit shud go numbr dri...\n",
      "5556                            ye u text pshew miss much\n",
      "5557    meant calcul lt gt unit lt gt school realli ex...\n",
      "5558                                     sorri call later\n",
      "5559                       next lt gt hour imma flip shit\n",
      "5560                                 anyth lor juz us lor\n",
      "5561                get dump heap mom decid come low bore\n",
      "5562    ok lor soni ericsson salesman ask shuhui say q...\n",
      "5563                               ard numbr like dat lor\n",
      "5564                     wait til least wednesday see get\n",
      "5565                                              huh lei\n",
      "5566    remind onumbr get numbr pound free call credit...\n",
      "5567    numbrnd time tri numbr contact u u numbr pound...\n",
      "5568                              ü b go esplanad fr home\n",
      "5569                                    piti mood suggest\n",
      "5570    guy bitch act like interest buy someth els nex...\n",
      "5571                                       rofl true name\n",
      "Name: 1, Length: 5572, dtype: object\n"
     ]
    }
   ],
   "source": [
    "print(processed)"
   ]
  },
  {
   "cell_type": "code",
   "execution_count": 14,
   "metadata": {},
   "outputs": [],
   "source": [
    "#now we have to generate feature using feature engg.\n",
    "#feature engg. is the process to use domain knowledge of data to create features\n",
    "\n",
    "from nltk.tokenize import word_tokenize\n",
    "\n",
    "#creating a bag of words model .....i.e. simply extracting all the words as tokens\n",
    "all_words=[]\n",
    "\n",
    "for message in processed:\n",
    "    words=word_tokenize(message)\n",
    "    for w in words:\n",
    "        all_words.append(w)\n",
    "        \n",
    "all_words=nltk.FreqDist(all_words)\n"
   ]
  },
  {
   "cell_type": "code",
   "execution_count": 51,
   "metadata": {},
   "outputs": [
    {
     "name": "stdout",
     "output_type": "stream",
     "text": [
      "Total num of words: 6569\n",
      "Most common words: [('numbr', 2975), ('u', 1207), ('call', 679), ('go', 456), ('get', 452), ('ur', 391), ('gt', 318), ('lt', 316), ('come', 304), ('ok', 293), ('free', 284), ('day', 276), ('know', 275), ('love', 266), ('like', 261)]\n"
     ]
    }
   ],
   "source": [
    "#print total no. of words and most common 15 words\n",
    "print(\"Total num of words: {}\".format(len(all_words)))\n",
    "print(\"Most common words: {}\".format(all_words.most_common(15)))"
   ]
  },
  {
   "cell_type": "code",
   "execution_count": 52,
   "metadata": {},
   "outputs": [],
   "source": [
    "#use the 3000 most common words as features....we can take 1500 or more words\n",
    "word_features=list(all_words.keys())[:3000]   \n"
   ]
  },
  {
   "cell_type": "code",
   "execution_count": 53,
   "metadata": {},
   "outputs": [
    {
     "name": "stdout",
     "output_type": "stream",
     "text": [
      "go\n",
      "jurong\n",
      "point\n",
      "crazi\n",
      "avail\n",
      "bugi\n",
      "n\n",
      "great\n",
      "world\n",
      "la\n",
      "e\n",
      "buffet\n",
      "cine\n",
      "got\n",
      "amor\n",
      "wat\n"
     ]
    }
   ],
   "source": [
    "#define find features function\n",
    "def find_features(message):\n",
    "    words=word_tokenize(message)\n",
    "    features = {}\n",
    "    for word in word_features:\n",
    "        features[word]=(word in words)\n",
    "        \n",
    "    return features\n",
    "\n",
    "#let's see some results\n",
    "features=find_features(processed[0])\n",
    "for key,value in features.items():\n",
    "    if value==True:\n",
    "        print(key)"
   ]
  },
  {
   "cell_type": "code",
   "execution_count": 54,
   "metadata": {},
   "outputs": [],
   "source": [
    "#find features for all messages\n",
    "messages= list(zip(processed,Y))\n",
    "\n",
    "#define a seed for reproducibility\n",
    "seed=1\n",
    "np.random.seed=seed\n",
    "np.random.shuffle(messages)\n",
    "\n",
    "#call find_features function for each sms message\n",
    "featuresets= [(find_features(text),label) for(text,label) in messages]"
   ]
  },
  {
   "cell_type": "code",
   "execution_count": 55,
   "metadata": {},
   "outputs": [],
   "source": [
    "#let's split the data now using scikit-learn\n",
    "from sklearn import model_selection\n",
    "\n",
    "training,testing=model_selection.train_test_split(featuresets,test_size=0.25,random_state=seed)"
   ]
  },
  {
   "cell_type": "code",
   "execution_count": 56,
   "metadata": {},
   "outputs": [
    {
     "name": "stdout",
     "output_type": "stream",
     "text": [
      "Training: 4179\n",
      "Testing: 1393\n"
     ]
    }
   ],
   "source": [
    "print(\"Training: {}\".format(len(training)))\n",
    "print(\"Testing: {}\".format(len(testing)))\n"
   ]
  },
  {
   "cell_type": "markdown",
   "metadata": {},
   "source": [
    "## 4. Using Scikit-learn Classifiers"
   ]
  },
  {
   "cell_type": "code",
   "execution_count": 57,
   "metadata": {},
   "outputs": [],
   "source": [
    "from sklearn.neighbors import KNeighborsClassifier\n",
    "from sklearn.tree import DecisionTreeClassifier\n",
    "from sklearn.ensemble import RandomForestClassifier\n",
    "from sklearn.linear_model import LogisticRegression,SGDClassifier\n",
    "from sklearn.naive_bayes import MultinomialNB\n",
    "from sklearn.svm import SVC\n",
    "from sklearn.metrics import classification_report,accuracy_score,confusion_matrix"
   ]
  },
  {
   "cell_type": "code",
   "execution_count": 58,
   "metadata": {},
   "outputs": [],
   "source": [
    "#Define models to train\n",
    "names=['K Nearest Neighbors', 'Decision Tree', 'Random Forest', 'Logistic Regression','SGDClassifier','Naive-Bayes','SVM Linear']\n",
    "\n",
    "classifiers={\n",
    "    KNeighborsClassifier(),\n",
    "    DecisionTreeClassifier(),\n",
    "    RandomForestClassifier(n_estimators=100),\n",
    "    LogisticRegression(solver='lbfgs',tol=0.0001),\n",
    "    SGDClassifier(max_iter=100,tol=1e-3),\n",
    "    MultinomialNB(),\n",
    "    SVC(kernel='linear')\n",
    "}\n",
    "\n",
    "models=list(zip(names,classifiers))\n",
    "\n",
    "#print(models)\n"
   ]
  },
  {
   "cell_type": "code",
   "execution_count": 59,
   "metadata": {
    "scrolled": true
   },
   "outputs": [
    {
     "name": "stdout",
     "output_type": "stream",
     "text": [
      "K Nearest Neighbors :Accuracy:97.34386216798278\n",
      "Decision Tree :Accuracy:98.27709978463747\n",
      "Random Forest :Accuracy:91.95979899497488\n",
      "Logistic Regression :Accuracy:97.91816223977028\n",
      "SGDClassifier :Accuracy:98.06173725771716\n",
      "Naive-Bayes :Accuracy:98.27709978463747\n",
      "SVM Linear :Accuracy:97.91816223977028\n"
     ]
    }
   ],
   "source": [
    "#wrap models in nltk\n",
    "from nltk.classify.scikitlearn import SklearnClassifier\n",
    "\n",
    "for name,model in models:\n",
    "    nltk_model=SklearnClassifier(model)\n",
    "    nltk_model.train(training)\n",
    "    accuracy=nltk.classify.accuracy(nltk_model,testing)*100\n",
    "    print('{} :Accuracy:{}'.format(name,accuracy))\n",
    "\n",
    "#result may be different every iteration"
   ]
  },
  {
   "cell_type": "markdown",
   "metadata": {},
   "source": [
    "## ensemble method - Voting classifier...\n",
    "E.g., if the prediction for a given sample is\n",
    "\n",
    "classifier 2 -> class 1\n",
    "\n",
    "classifier 3 -> class 2\n",
    "\n",
    "the VotingClassifier   (with voting=\"hard\") \n",
    "\n",
    "would classify the sample as--> “class 1” \n",
    "\n",
    "based on the majority class label.\n",
    "In the cases of a tie, the VotingClassifier will select the class based on the ascending sort order. E.g., in the following scenario\n",
    "\n",
    "classifier 1 -> class 2\n",
    "\n",
    "classifier 2 -> class 1\n",
    "\n",
    "-->the class label 1 will be assigned to the sample.\n",
    "\n",
    "-->Here class 1,2 are spam,ham...\n",
    "\n",
    "In contrast to majority voting (hard voting), \n",
    "-->soft voting\" returns the class label as argmax of the sum of predicted probabilities.\n",
    "\n",
    "The weighted average probabilities for a sample would then be calculated as follows:\n",
    "\n",
    "classifier ------class 1-------class 2---------class 3\n",
    "\n",
    "classifier 1 --- w1 * 0.2------w1 * 0.5 -------w1 * 0.3\n",
    "\n",
    "classifier 2 --- w2 * 0.6 -----w2 * 0.3 -------w2 * 0.1\n",
    "\n",
    "classifier 3 ----w3 * 0.3 -----w3 * 0.4 -------w3 * 0.3\n",
    "\n",
    "weighted avg ---- 0.37   -------0.4  ------------0.23\n",
    "\n",
    "-->Here, the predicted class label is 2, since it has the highest average probability.\n",
    "\n",
    "If your algorithms are optimized then go for soft"
   ]
  },
  {
   "cell_type": "code",
   "execution_count": 60,
   "metadata": {},
   "outputs": [
    {
     "name": "stdout",
     "output_type": "stream",
     "text": [
      "Ensemble Method Accuracy:98.06173725771716\n"
     ]
    }
   ],
   "source": [
    "from sklearn.ensemble import VotingClassifier\n",
    "\n",
    "#Define models to train\n",
    "names=['K Nearest Neighbors', 'Decision Tree', 'Random Forest', 'Logistic Regression','SGDClassifier','Naive-Bayes','SVM Linear']\n",
    "\n",
    "classifiers={\n",
    "    KNeighborsClassifier(),\n",
    "    DecisionTreeClassifier(),\n",
    "    RandomForestClassifier(n_estimators=100),\n",
    "    LogisticRegression(solver='lbfgs',tol=0.0001),\n",
    "    SGDClassifier(max_iter=100,tol=1e-3),\n",
    "    MultinomialNB(),\n",
    "    SVC(kernel='linear')\n",
    "}\n",
    "\n",
    "models=list(zip(names,classifiers))\n",
    "\n",
    "nltk_ensemble=SklearnClassifier(VotingClassifier(estimators=models,voting='hard',n_jobs=None))    #n_jobs--no. of cores to be used of cpu or else -1 means all\n",
    "nltk_ensemble.train(training)\n",
    "accuracy=nltk.classify.accuracy(nltk_ensemble,testing)*100\n",
    "print('Ensemble Method Accuracy:{}'.format(accuracy))\n",
    "\n"
   ]
  },
  {
   "cell_type": "code",
   "execution_count": 61,
   "metadata": {},
   "outputs": [],
   "source": [
    "#let's make some class label predictions for testing set\n",
    "txt_features,labels=zip(*testing)\n",
    "\n",
    "prediction=nltk_ensemble.classify_many(txt_features)"
   ]
  },
  {
   "cell_type": "code",
   "execution_count": 62,
   "metadata": {},
   "outputs": [
    {
     "name": "stdout",
     "output_type": "stream",
     "text": [
      "              precision    recall  f1-score   support\n",
      "\n",
      "           0       0.98      1.00      0.99      1214\n",
      "           1       1.00      0.85      0.92       179\n",
      "\n",
      "   micro avg       0.98      0.98      0.98      1393\n",
      "   macro avg       0.99      0.92      0.95      1393\n",
      "weighted avg       0.98      0.98      0.98      1393\n",
      "\n"
     ]
    },
    {
     "data": {
      "text/html": [
       "<div>\n",
       "<style scoped>\n",
       "    .dataframe tbody tr th:only-of-type {\n",
       "        vertical-align: middle;\n",
       "    }\n",
       "\n",
       "    .dataframe tbody tr th {\n",
       "        vertical-align: top;\n",
       "    }\n",
       "\n",
       "    .dataframe thead tr th {\n",
       "        text-align: left;\n",
       "    }\n",
       "</style>\n",
       "<table border=\"1\" class=\"dataframe\">\n",
       "  <thead>\n",
       "    <tr>\n",
       "      <th></th>\n",
       "      <th></th>\n",
       "      <th colspan=\"2\" halign=\"left\">predicted</th>\n",
       "    </tr>\n",
       "    <tr>\n",
       "      <th></th>\n",
       "      <th></th>\n",
       "      <th>ham</th>\n",
       "      <th>spam</th>\n",
       "    </tr>\n",
       "  </thead>\n",
       "  <tbody>\n",
       "    <tr>\n",
       "      <th rowspan=\"2\" valign=\"top\">actual</th>\n",
       "      <th>ham</th>\n",
       "      <td>1214</td>\n",
       "      <td>0</td>\n",
       "    </tr>\n",
       "    <tr>\n",
       "      <th>spam</th>\n",
       "      <td>27</td>\n",
       "      <td>152</td>\n",
       "    </tr>\n",
       "  </tbody>\n",
       "</table>\n",
       "</div>"
      ],
      "text/plain": [
       "            predicted     \n",
       "                  ham spam\n",
       "actual ham       1214    0\n",
       "       spam        27  152"
      ]
     },
     "execution_count": 62,
     "metadata": {},
     "output_type": "execute_result"
    }
   ],
   "source": [
    "#print a confusion matrix and classification report\n",
    "print(classification_report(labels,prediction))\n",
    "\n",
    "pd.DataFrame(\n",
    "        confusion_matrix(labels,prediction),\n",
    "        index=[['actual','actual'],['ham','spam']],\n",
    "        columns=[['predicted','predicted'],['ham','spam']]\n",
    "            )"
   ]
  },
  {
   "cell_type": "code",
   "execution_count": null,
   "metadata": {},
   "outputs": [],
   "source": []
  }
 ],
 "metadata": {
  "kernelspec": {
   "display_name": "Python 3",
   "language": "python",
   "name": "python3"
  },
  "language_info": {
   "codemirror_mode": {
    "name": "ipython",
    "version": 3
   },
   "file_extension": ".py",
   "mimetype": "text/x-python",
   "name": "python",
   "nbconvert_exporter": "python",
   "pygments_lexer": "ipython3",
   "version": "3.6.8"
  }
 },
 "nbformat": 4,
 "nbformat_minor": 2
}
